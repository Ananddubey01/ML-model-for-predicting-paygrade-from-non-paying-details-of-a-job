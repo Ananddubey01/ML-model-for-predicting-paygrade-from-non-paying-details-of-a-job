{
 "cells": [
  {
   "cell_type": "code",
   "execution_count": 1,
   "metadata": {
    "_cell_guid": "b1076dfc-b9ad-4769-8c92-a6c4dae69d19",
    "_uuid": "8f2839f25d086af736a60e9eeb907d3b93b6e0e5",
    "execution": {
     "iopub.execute_input": "2020-08-27T05:21:21.162156Z",
     "iopub.status.busy": "2020-08-27T05:21:21.161331Z",
     "iopub.status.idle": "2020-08-27T05:21:21.170994Z",
     "shell.execute_reply": "2020-08-27T05:21:21.170314Z"
    },
    "papermill": {
     "duration": 0.029569,
     "end_time": "2020-08-27T05:21:21.171128",
     "exception": false,
     "start_time": "2020-08-27T05:21:21.141559",
     "status": "completed"
    },
    "tags": []
   },
   "outputs": [
    {
     "name": "stdout",
     "output_type": "stream",
     "text": [
      "/kaggle/input/job-classification-dataset/jobclassinfo2.csv\n"
     ]
    }
   ],
   "source": [
    "# This Python 3 environment comes with many helpful analytics libraries installed\n",
    "# It is defined by the kaggle/python Docker image: https://github.com/kaggle/docker-python\n",
    "# For example, here's several helpful packages to load\n",
    "\n",
    "import numpy as np # linear algebra\n",
    "import pandas as pd # data processing, CSV file I/O (e.g. pd.read_csv)\n",
    "\n",
    "# Input data files are available in the read-only \"../input/\" directory\n",
    "# For example, running this (by clicking run or pressing Shift+Enter) will list all files under the input directory\n",
    "\n",
    "import os\n",
    "for dirname, _, filenames in os.walk('/kaggle/input'):\n",
    "    for filename in filenames:\n",
    "        print(os.path.join(dirname, filename))\n",
    "\n",
    "# You can write up to 5GB to the current directory (/kaggle/working/) that gets preserved as output when you create a version using \"Save & Run All\" \n",
    "# You can also write temporary files to /kaggle/temp/, but they won't be saved outside of the current session"
   ]
  },
  {
   "cell_type": "code",
   "execution_count": 2,
   "metadata": {
    "_cell_guid": "79c7e3d0-c299-4dcb-8224-4455121ee9b0",
    "_uuid": "d629ff2d2480ee46fbb7e2d37f6b5fab8052498a",
    "execution": {
     "iopub.execute_input": "2020-08-27T05:21:21.204736Z",
     "iopub.status.busy": "2020-08-27T05:21:21.203918Z",
     "iopub.status.idle": "2020-08-27T05:21:21.251321Z",
     "shell.execute_reply": "2020-08-27T05:21:21.250646Z"
    },
    "papermill": {
     "duration": 0.06748,
     "end_time": "2020-08-27T05:21:21.251450",
     "exception": false,
     "start_time": "2020-08-27T05:21:21.183970",
     "status": "completed"
    },
    "tags": []
   },
   "outputs": [
    {
     "name": "stdout",
     "output_type": "stream",
     "text": [
      "<class 'pandas.core.frame.DataFrame'>\n",
      "RangeIndex: 66 entries, 0 to 65\n",
      "Data columns (total 14 columns):\n",
      " #   Column                Non-Null Count  Dtype \n",
      "---  ------                --------------  ----- \n",
      " 0   ID                    66 non-null     int64 \n",
      " 1   JobFamily             66 non-null     int64 \n",
      " 2   JobFamilyDescription  66 non-null     object\n",
      " 3   JobClass              66 non-null     int64 \n",
      " 4   JobClassDescription   66 non-null     object\n",
      " 5   PayGrade              66 non-null     int64 \n",
      " 6   EducationLevel        66 non-null     int64 \n",
      " 7   Experience            66 non-null     int64 \n",
      " 8   OrgImpact             66 non-null     int64 \n",
      " 9   ProblemSolving        66 non-null     int64 \n",
      " 10  Supervision           66 non-null     int64 \n",
      " 11  ContactLevel          66 non-null     int64 \n",
      " 12  FinancialBudget       66 non-null     int64 \n",
      " 13  PG                    66 non-null     object\n",
      "dtypes: int64(11), object(3)\n",
      "memory usage: 7.3+ KB\n"
     ]
    }
   ],
   "source": [
    "df = pd.read_csv('../input/job-classification-dataset/jobclassinfo2.csv')\n",
    "df.info()"
   ]
  },
  {
   "cell_type": "code",
   "execution_count": 3,
   "metadata": {
    "execution": {
     "iopub.execute_input": "2020-08-27T05:21:21.289131Z",
     "iopub.status.busy": "2020-08-27T05:21:21.288370Z",
     "iopub.status.idle": "2020-08-27T05:21:21.300816Z",
     "shell.execute_reply": "2020-08-27T05:21:21.300213Z"
    },
    "papermill": {
     "duration": 0.03739,
     "end_time": "2020-08-27T05:21:21.300941",
     "exception": false,
     "start_time": "2020-08-27T05:21:21.263551",
     "status": "completed"
    },
    "tags": []
   },
   "outputs": [
    {
     "data": {
      "text/html": [
       "<div>\n",
       "<style scoped>\n",
       "    .dataframe tbody tr th:only-of-type {\n",
       "        vertical-align: middle;\n",
       "    }\n",
       "\n",
       "    .dataframe tbody tr th {\n",
       "        vertical-align: top;\n",
       "    }\n",
       "\n",
       "    .dataframe thead th {\n",
       "        text-align: right;\n",
       "    }\n",
       "</style>\n",
       "<table border=\"1\" class=\"dataframe\">\n",
       "  <thead>\n",
       "    <tr style=\"text-align: right;\">\n",
       "      <th></th>\n",
       "      <th>ID</th>\n",
       "      <th>JobFamily</th>\n",
       "      <th>JobFamilyDescription</th>\n",
       "      <th>JobClass</th>\n",
       "      <th>JobClassDescription</th>\n",
       "      <th>PayGrade</th>\n",
       "      <th>EducationLevel</th>\n",
       "      <th>Experience</th>\n",
       "      <th>OrgImpact</th>\n",
       "      <th>ProblemSolving</th>\n",
       "      <th>Supervision</th>\n",
       "      <th>ContactLevel</th>\n",
       "      <th>FinancialBudget</th>\n",
       "      <th>PG</th>\n",
       "    </tr>\n",
       "  </thead>\n",
       "  <tbody>\n",
       "    <tr>\n",
       "      <th>0</th>\n",
       "      <td>1</td>\n",
       "      <td>1</td>\n",
       "      <td>Accounting And Finance</td>\n",
       "      <td>1</td>\n",
       "      <td>Accountant I</td>\n",
       "      <td>5</td>\n",
       "      <td>3</td>\n",
       "      <td>1</td>\n",
       "      <td>3</td>\n",
       "      <td>3</td>\n",
       "      <td>4</td>\n",
       "      <td>3</td>\n",
       "      <td>5</td>\n",
       "      <td>PG05</td>\n",
       "    </tr>\n",
       "    <tr>\n",
       "      <th>1</th>\n",
       "      <td>2</td>\n",
       "      <td>1</td>\n",
       "      <td>Accounting And Finance</td>\n",
       "      <td>2</td>\n",
       "      <td>Accountant II</td>\n",
       "      <td>6</td>\n",
       "      <td>4</td>\n",
       "      <td>1</td>\n",
       "      <td>5</td>\n",
       "      <td>4</td>\n",
       "      <td>5</td>\n",
       "      <td>7</td>\n",
       "      <td>7</td>\n",
       "      <td>PG06</td>\n",
       "    </tr>\n",
       "    <tr>\n",
       "      <th>2</th>\n",
       "      <td>3</td>\n",
       "      <td>1</td>\n",
       "      <td>Accounting And Finance</td>\n",
       "      <td>3</td>\n",
       "      <td>Accountant III</td>\n",
       "      <td>8</td>\n",
       "      <td>4</td>\n",
       "      <td>2</td>\n",
       "      <td>6</td>\n",
       "      <td>5</td>\n",
       "      <td>6</td>\n",
       "      <td>7</td>\n",
       "      <td>10</td>\n",
       "      <td>PG08</td>\n",
       "    </tr>\n",
       "  </tbody>\n",
       "</table>\n",
       "</div>"
      ],
      "text/plain": [
       "   ID  JobFamily    JobFamilyDescription  JobClass JobClassDescription  \\\n",
       "0   1          1  Accounting And Finance         1        Accountant I   \n",
       "1   2          1  Accounting And Finance         2       Accountant II   \n",
       "2   3          1  Accounting And Finance         3      Accountant III   \n",
       "\n",
       "   PayGrade  EducationLevel  Experience  OrgImpact  ProblemSolving  \\\n",
       "0         5               3           1          3               3   \n",
       "1         6               4           1          5               4   \n",
       "2         8               4           2          6               5   \n",
       "\n",
       "   Supervision  ContactLevel  FinancialBudget    PG  \n",
       "0            4             3                5  PG05  \n",
       "1            5             7                7  PG06  \n",
       "2            6             7               10  PG08  "
      ]
     },
     "execution_count": 3,
     "metadata": {},
     "output_type": "execute_result"
    }
   ],
   "source": [
    "df.head(3)"
   ]
  },
  {
   "cell_type": "code",
   "execution_count": 4,
   "metadata": {
    "execution": {
     "iopub.execute_input": "2020-08-27T05:21:21.335625Z",
     "iopub.status.busy": "2020-08-27T05:21:21.334508Z",
     "iopub.status.idle": "2020-08-27T05:21:21.339590Z",
     "shell.execute_reply": "2020-08-27T05:21:21.338948Z"
    },
    "papermill": {
     "duration": 0.025949,
     "end_time": "2020-08-27T05:21:21.339722",
     "exception": false,
     "start_time": "2020-08-27T05:21:21.313773",
     "status": "completed"
    },
    "tags": []
   },
   "outputs": [
    {
     "data": {
      "text/plain": [
       "ID                      0\n",
       "JobFamily               0\n",
       "JobFamilyDescription    0\n",
       "JobClass                0\n",
       "JobClassDescription     0\n",
       "PayGrade                0\n",
       "EducationLevel          0\n",
       "Experience              0\n",
       "OrgImpact               0\n",
       "ProblemSolving          0\n",
       "Supervision             0\n",
       "ContactLevel            0\n",
       "FinancialBudget         0\n",
       "PG                      0\n",
       "dtype: int64"
      ]
     },
     "execution_count": 4,
     "metadata": {},
     "output_type": "execute_result"
    }
   ],
   "source": [
    "df.isnull().sum()"
   ]
  },
  {
   "cell_type": "code",
   "execution_count": 5,
   "metadata": {
    "execution": {
     "iopub.execute_input": "2020-08-27T05:21:21.376915Z",
     "iopub.status.busy": "2020-08-27T05:21:21.375823Z",
     "iopub.status.idle": "2020-08-27T05:21:21.380118Z",
     "shell.execute_reply": "2020-08-27T05:21:21.379501Z"
    },
    "papermill": {
     "duration": 0.026998,
     "end_time": "2020-08-27T05:21:21.380242",
     "exception": false,
     "start_time": "2020-08-27T05:21:21.353244",
     "status": "completed"
    },
    "tags": []
   },
   "outputs": [
    {
     "data": {
      "text/plain": [
       "Index(['JobFamilyDescription', 'JobClassDescription', 'PG'], dtype='object')"
      ]
     },
     "execution_count": 5,
     "metadata": {},
     "output_type": "execute_result"
    }
   ],
   "source": [
    "object_type_features = df.select_dtypes(\"object\").columns\n",
    "object_type_features"
   ]
  },
  {
   "cell_type": "code",
   "execution_count": 6,
   "metadata": {
    "execution": {
     "iopub.execute_input": "2020-08-27T05:21:21.416389Z",
     "iopub.status.busy": "2020-08-27T05:21:21.415586Z",
     "iopub.status.idle": "2020-08-27T05:21:22.398193Z",
     "shell.execute_reply": "2020-08-27T05:21:22.398802Z"
    },
    "papermill": {
     "duration": 1.004705,
     "end_time": "2020-08-27T05:21:22.398971",
     "exception": false,
     "start_time": "2020-08-27T05:21:21.394266",
     "status": "completed"
    },
    "tags": []
   },
   "outputs": [
    {
     "name": "stdout",
     "output_type": "stream",
     "text": [
      "<class 'pandas.core.frame.DataFrame'>\n",
      "RangeIndex: 66 entries, 0 to 65\n",
      "Data columns (total 14 columns):\n",
      " #   Column                Non-Null Count  Dtype\n",
      "---  ------                --------------  -----\n",
      " 0   ID                    66 non-null     int64\n",
      " 1   JobFamily             66 non-null     int64\n",
      " 2   JobFamilyDescription  66 non-null     int64\n",
      " 3   JobClass              66 non-null     int64\n",
      " 4   JobClassDescription   66 non-null     int64\n",
      " 5   PayGrade              66 non-null     int64\n",
      " 6   EducationLevel        66 non-null     int64\n",
      " 7   Experience            66 non-null     int64\n",
      " 8   OrgImpact             66 non-null     int64\n",
      " 9   ProblemSolving        66 non-null     int64\n",
      " 10  Supervision           66 non-null     int64\n",
      " 11  ContactLevel          66 non-null     int64\n",
      " 12  FinancialBudget       66 non-null     int64\n",
      " 13  PG                    66 non-null     int64\n",
      "dtypes: int64(14)\n",
      "memory usage: 7.3 KB\n"
     ]
    }
   ],
   "source": [
    "from sklearn import preprocessing\n",
    "le = preprocessing.LabelEncoder()\n",
    "\n",
    "for feat_name in object_type_features: \n",
    "    df[feat_name] = le.fit_transform(df[feat_name])\n",
    "df.info()"
   ]
  },
  {
   "cell_type": "code",
   "execution_count": 7,
   "metadata": {
    "execution": {
     "iopub.execute_input": "2020-08-27T05:21:22.444962Z",
     "iopub.status.busy": "2020-08-27T05:21:22.443853Z",
     "iopub.status.idle": "2020-08-27T05:21:22.448487Z",
     "shell.execute_reply": "2020-08-27T05:21:22.449040Z"
    },
    "papermill": {
     "duration": 0.035706,
     "end_time": "2020-08-27T05:21:22.449214",
     "exception": false,
     "start_time": "2020-08-27T05:21:22.413508",
     "status": "completed"
    },
    "tags": []
   },
   "outputs": [
    {
     "data": {
      "text/html": [
       "<div>\n",
       "<style scoped>\n",
       "    .dataframe tbody tr th:only-of-type {\n",
       "        vertical-align: middle;\n",
       "    }\n",
       "\n",
       "    .dataframe tbody tr th {\n",
       "        vertical-align: top;\n",
       "    }\n",
       "\n",
       "    .dataframe thead th {\n",
       "        text-align: right;\n",
       "    }\n",
       "</style>\n",
       "<table border=\"1\" class=\"dataframe\">\n",
       "  <thead>\n",
       "    <tr style=\"text-align: right;\">\n",
       "      <th></th>\n",
       "      <th>ID</th>\n",
       "      <th>JobFamily</th>\n",
       "      <th>JobFamilyDescription</th>\n",
       "      <th>JobClass</th>\n",
       "      <th>JobClassDescription</th>\n",
       "      <th>PayGrade</th>\n",
       "      <th>EducationLevel</th>\n",
       "      <th>Experience</th>\n",
       "      <th>OrgImpact</th>\n",
       "      <th>ProblemSolving</th>\n",
       "      <th>Supervision</th>\n",
       "      <th>ContactLevel</th>\n",
       "      <th>FinancialBudget</th>\n",
       "      <th>PG</th>\n",
       "    </tr>\n",
       "  </thead>\n",
       "  <tbody>\n",
       "    <tr>\n",
       "      <th>0</th>\n",
       "      <td>1</td>\n",
       "      <td>1</td>\n",
       "      <td>0</td>\n",
       "      <td>1</td>\n",
       "      <td>0</td>\n",
       "      <td>5</td>\n",
       "      <td>3</td>\n",
       "      <td>1</td>\n",
       "      <td>3</td>\n",
       "      <td>3</td>\n",
       "      <td>4</td>\n",
       "      <td>3</td>\n",
       "      <td>5</td>\n",
       "      <td>4</td>\n",
       "    </tr>\n",
       "    <tr>\n",
       "      <th>1</th>\n",
       "      <td>2</td>\n",
       "      <td>1</td>\n",
       "      <td>0</td>\n",
       "      <td>2</td>\n",
       "      <td>1</td>\n",
       "      <td>6</td>\n",
       "      <td>4</td>\n",
       "      <td>1</td>\n",
       "      <td>5</td>\n",
       "      <td>4</td>\n",
       "      <td>5</td>\n",
       "      <td>7</td>\n",
       "      <td>7</td>\n",
       "      <td>5</td>\n",
       "    </tr>\n",
       "    <tr>\n",
       "      <th>2</th>\n",
       "      <td>3</td>\n",
       "      <td>1</td>\n",
       "      <td>0</td>\n",
       "      <td>3</td>\n",
       "      <td>2</td>\n",
       "      <td>8</td>\n",
       "      <td>4</td>\n",
       "      <td>2</td>\n",
       "      <td>6</td>\n",
       "      <td>5</td>\n",
       "      <td>6</td>\n",
       "      <td>7</td>\n",
       "      <td>10</td>\n",
       "      <td>7</td>\n",
       "    </tr>\n",
       "    <tr>\n",
       "      <th>3</th>\n",
       "      <td>4</td>\n",
       "      <td>1</td>\n",
       "      <td>0</td>\n",
       "      <td>4</td>\n",
       "      <td>3</td>\n",
       "      <td>10</td>\n",
       "      <td>5</td>\n",
       "      <td>5</td>\n",
       "      <td>6</td>\n",
       "      <td>6</td>\n",
       "      <td>7</td>\n",
       "      <td>8</td>\n",
       "      <td>11</td>\n",
       "      <td>9</td>\n",
       "    </tr>\n",
       "    <tr>\n",
       "      <th>4</th>\n",
       "      <td>5</td>\n",
       "      <td>2</td>\n",
       "      <td>1</td>\n",
       "      <td>5</td>\n",
       "      <td>4</td>\n",
       "      <td>1</td>\n",
       "      <td>1</td>\n",
       "      <td>0</td>\n",
       "      <td>1</td>\n",
       "      <td>1</td>\n",
       "      <td>1</td>\n",
       "      <td>1</td>\n",
       "      <td>1</td>\n",
       "      <td>0</td>\n",
       "    </tr>\n",
       "  </tbody>\n",
       "</table>\n",
       "</div>"
      ],
      "text/plain": [
       "   ID  JobFamily  JobFamilyDescription  JobClass  JobClassDescription  \\\n",
       "0   1          1                     0         1                    0   \n",
       "1   2          1                     0         2                    1   \n",
       "2   3          1                     0         3                    2   \n",
       "3   4          1                     0         4                    3   \n",
       "4   5          2                     1         5                    4   \n",
       "\n",
       "   PayGrade  EducationLevel  Experience  OrgImpact  ProblemSolving  \\\n",
       "0         5               3           1          3               3   \n",
       "1         6               4           1          5               4   \n",
       "2         8               4           2          6               5   \n",
       "3        10               5           5          6               6   \n",
       "4         1               1           0          1               1   \n",
       "\n",
       "   Supervision  ContactLevel  FinancialBudget  PG  \n",
       "0            4             3                5   4  \n",
       "1            5             7                7   5  \n",
       "2            6             7               10   7  \n",
       "3            7             8               11   9  \n",
       "4            1             1                1   0  "
      ]
     },
     "execution_count": 7,
     "metadata": {},
     "output_type": "execute_result"
    }
   ],
   "source": [
    "df.head()"
   ]
  },
  {
   "cell_type": "code",
   "execution_count": 8,
   "metadata": {
    "execution": {
     "iopub.execute_input": "2020-08-27T05:21:22.487845Z",
     "iopub.status.busy": "2020-08-27T05:21:22.486768Z",
     "iopub.status.idle": "2020-08-27T05:21:22.490462Z",
     "shell.execute_reply": "2020-08-27T05:21:22.489850Z"
    },
    "papermill": {
     "duration": 0.025698,
     "end_time": "2020-08-27T05:21:22.490608",
     "exception": false,
     "start_time": "2020-08-27T05:21:22.464910",
     "status": "completed"
    },
    "tags": []
   },
   "outputs": [],
   "source": [
    "X = df.drop(['PG'], axis = 1)\n",
    "y = df['PG']"
   ]
  },
  {
   "cell_type": "code",
   "execution_count": 9,
   "metadata": {
    "execution": {
     "iopub.execute_input": "2020-08-27T05:21:22.528706Z",
     "iopub.status.busy": "2020-08-27T05:21:22.527511Z",
     "iopub.status.idle": "2020-08-27T05:21:22.593506Z",
     "shell.execute_reply": "2020-08-27T05:21:22.592696Z"
    },
    "papermill": {
     "duration": 0.087109,
     "end_time": "2020-08-27T05:21:22.593636",
     "exception": false,
     "start_time": "2020-08-27T05:21:22.506527",
     "status": "completed"
    },
    "tags": []
   },
   "outputs": [],
   "source": [
    "from sklearn.model_selection import train_test_split\n",
    "X_train, X_test, y_train, y_test = train_test_split(X, y, test_size=0.30)\n"
   ]
  },
  {
   "cell_type": "markdown",
   "execution_count": null,
   "metadata": {
    "papermill": {
     "duration": 0.016097,
     "end_time": "2020-08-27T05:21:22.626035",
     "exception": false,
     "start_time": "2020-08-27T05:21:22.609938",
     "status": "completed"
    },
    "tags": []
   },
   "source": [
    "**1)LOGISTIC REGRESSION**"
   ]
  },
  {
   "cell_type": "code",
   "execution_count": 10,
   "metadata": {
    "execution": {
     "iopub.execute_input": "2020-08-27T05:21:22.668768Z",
     "iopub.status.busy": "2020-08-27T05:21:22.667804Z",
     "iopub.status.idle": "2020-08-27T05:21:22.846453Z",
     "shell.execute_reply": "2020-08-27T05:21:22.847066Z"
    },
    "papermill": {
     "duration": 0.203765,
     "end_time": "2020-08-27T05:21:22.847232",
     "exception": false,
     "start_time": "2020-08-27T05:21:22.643467",
     "status": "completed"
    },
    "tags": []
   },
   "outputs": [
    {
     "name": "stdout",
     "output_type": "stream",
     "text": [
      "Train Score LR- 69.56521739130434 %\n",
      "Test Score LR- 25.0 %\n"
     ]
    },
    {
     "name": "stderr",
     "output_type": "stream",
     "text": [
      "/opt/conda/lib/python3.7/site-packages/sklearn/linear_model/_logistic.py:764: ConvergenceWarning: lbfgs failed to converge (status=1):\n",
      "STOP: TOTAL NO. of ITERATIONS REACHED LIMIT.\n",
      "\n",
      "Increase the number of iterations (max_iter) or scale the data as shown in:\n",
      "    https://scikit-learn.org/stable/modules/preprocessing.html\n",
      "Please also refer to the documentation for alternative solver options:\n",
      "    https://scikit-learn.org/stable/modules/linear_model.html#logistic-regression\n",
      "  extra_warning_msg=_LOGISTIC_SOLVER_CONVERGENCE_MSG)\n"
     ]
    }
   ],
   "source": [
    "from sklearn.linear_model import LogisticRegression\n",
    "clf_lr = LogisticRegression()\n",
    "\n",
    "clf_lr.fit(X_train, y_train)\n",
    "y_pred_lr = clf_lr.predict(X_test)\n",
    "print(\"Train Score LR-\", clf_lr.score(X_train, y_train)*100 , \"%\")\n",
    "print(\"Test Score LR-\", clf_lr.score(X_test, y_test)*100, \"%\")"
   ]
  },
  {
   "cell_type": "markdown",
   "execution_count": null,
   "metadata": {
    "papermill": {
     "duration": 0.016093,
     "end_time": "2020-08-27T05:21:22.880558",
     "exception": false,
     "start_time": "2020-08-27T05:21:22.864465",
     "status": "completed"
    },
    "tags": []
   },
   "source": [
    "**Confusion Matrix, Recall Score and Precision Score**"
   ]
  },
  {
   "cell_type": "code",
   "execution_count": 11,
   "metadata": {
    "execution": {
     "iopub.execute_input": "2020-08-27T05:21:22.923730Z",
     "iopub.status.busy": "2020-08-27T05:21:22.922886Z",
     "iopub.status.idle": "2020-08-27T05:21:22.936179Z",
     "shell.execute_reply": "2020-08-27T05:21:22.937013Z"
    },
    "papermill": {
     "duration": 0.03944,
     "end_time": "2020-08-27T05:21:22.937231",
     "exception": false,
     "start_time": "2020-08-27T05:21:22.897791",
     "status": "completed"
    },
    "tags": []
   },
   "outputs": [
    {
     "name": "stdout",
     "output_type": "stream",
     "text": [
      "Recall score 0.26666666666666666\n",
      "Precision score 0.18666666666666665\n",
      "CONFUSION MATRIX [[0 0 0 0 0 0 0 0 0 0]\n",
      " [0 0 0 0 0 0 0 0 0 1]\n",
      " [0 0 1 1 0 0 0 0 0 0]\n",
      " [0 0 0 0 1 0 0 0 0 0]\n",
      " [1 0 0 1 0 2 0 0 0 0]\n",
      " [0 0 0 0 0 1 0 0 0 0]\n",
      " [0 0 0 0 0 0 0 1 0 0]\n",
      " [0 0 0 0 0 0 1 1 0 0]\n",
      " [0 0 0 0 0 0 0 2 0 3]\n",
      " [0 0 0 0 0 0 0 1 0 2]]\n"
     ]
    },
    {
     "name": "stderr",
     "output_type": "stream",
     "text": [
      "/opt/conda/lib/python3.7/site-packages/sklearn/metrics/_classification.py:1221: UndefinedMetricWarning: Recall is ill-defined and being set to 0.0 in labels with no true samples. Use `zero_division` parameter to control this behavior.\n",
      "  _warn_prf(average, modifier, msg_start, len(result))\n",
      "/opt/conda/lib/python3.7/site-packages/sklearn/metrics/_classification.py:1221: UndefinedMetricWarning: Precision is ill-defined and being set to 0.0 in labels with no predicted samples. Use `zero_division` parameter to control this behavior.\n",
      "  _warn_prf(average, modifier, msg_start, len(result))\n"
     ]
    }
   ],
   "source": [
    "from sklearn.metrics import recall_score, precision_score, confusion_matrix\n",
    "\n",
    "print(\"Recall score\", recall_score(y_test, y_pred_lr, average='macro'))\n",
    "print(\"Precision score\", precision_score(y_test, y_pred_lr, average='macro'))\n",
    "print (\"CONFUSION MATRIX\", confusion_matrix(y_test, y_pred_lr))"
   ]
  },
  {
   "cell_type": "markdown",
   "execution_count": null,
   "metadata": {
    "papermill": {
     "duration": 0.015948,
     "end_time": "2020-08-27T05:21:22.969975",
     "exception": false,
     "start_time": "2020-08-27T05:21:22.954027",
     "status": "completed"
    },
    "tags": []
   },
   "source": [
    "**2)DECISION TREE**"
   ]
  },
  {
   "cell_type": "code",
   "execution_count": 12,
   "metadata": {
    "execution": {
     "iopub.execute_input": "2020-08-27T05:21:23.011989Z",
     "iopub.status.busy": "2020-08-27T05:21:23.011147Z",
     "iopub.status.idle": "2020-08-27T05:21:23.125688Z",
     "shell.execute_reply": "2020-08-27T05:21:23.124933Z"
    },
    "papermill": {
     "duration": 0.139477,
     "end_time": "2020-08-27T05:21:23.125813",
     "exception": false,
     "start_time": "2020-08-27T05:21:22.986336",
     "status": "completed"
    },
    "tags": []
   },
   "outputs": [
    {
     "name": "stdout",
     "output_type": "stream",
     "text": [
      "Train Score LR- 100.0 %\n",
      "Test Score LR- 85.0 %\n"
     ]
    }
   ],
   "source": [
    "from sklearn.tree import DecisionTreeClassifier\n",
    "clf_dt = DecisionTreeClassifier()\n",
    "\n",
    "clf_dt.fit(X_train, y_train)\n",
    "y_pred_dt = clf_dt.predict(X_test)\n",
    "print(\"Train Score LR-\", clf_dt.score(X_train, y_train)*100 , \"%\")\n",
    "print(\"Test Score LR-\", clf_dt.score(X_test, y_test)*100, \"%\")"
   ]
  },
  {
   "cell_type": "code",
   "execution_count": 13,
   "metadata": {
    "execution": {
     "iopub.execute_input": "2020-08-27T05:21:23.170441Z",
     "iopub.status.busy": "2020-08-27T05:21:23.168865Z",
     "iopub.status.idle": "2020-08-27T05:21:23.176164Z",
     "shell.execute_reply": "2020-08-27T05:21:23.176790Z"
    },
    "papermill": {
     "duration": 0.034875,
     "end_time": "2020-08-27T05:21:23.176951",
     "exception": false,
     "start_time": "2020-08-27T05:21:23.142076",
     "status": "completed"
    },
    "tags": []
   },
   "outputs": [
    {
     "name": "stdout",
     "output_type": "stream",
     "text": [
      "Recall score 0.73\n",
      "Precision score 0.7333333333333333\n",
      "CONFUSION MATRIX [[0 0 0 0 0 0 0 0 0 0]\n",
      " [1 0 0 0 0 0 0 0 0 0]\n",
      " [0 0 2 0 0 0 0 0 0 0]\n",
      " [0 0 0 1 0 0 0 0 0 0]\n",
      " [0 0 0 0 4 0 0 0 0 0]\n",
      " [0 0 0 0 0 1 0 0 0 0]\n",
      " [0 0 0 0 0 0 1 0 0 0]\n",
      " [0 0 0 0 0 0 1 1 0 0]\n",
      " [0 0 0 0 0 0 1 0 4 0]\n",
      " [0 0 0 0 0 0 0 0 0 3]]\n"
     ]
    },
    {
     "name": "stderr",
     "output_type": "stream",
     "text": [
      "/opt/conda/lib/python3.7/site-packages/sklearn/metrics/_classification.py:1221: UndefinedMetricWarning: Recall is ill-defined and being set to 0.0 in labels with no true samples. Use `zero_division` parameter to control this behavior.\n",
      "  _warn_prf(average, modifier, msg_start, len(result))\n",
      "/opt/conda/lib/python3.7/site-packages/sklearn/metrics/_classification.py:1221: UndefinedMetricWarning: Precision is ill-defined and being set to 0.0 in labels with no predicted samples. Use `zero_division` parameter to control this behavior.\n",
      "  _warn_prf(average, modifier, msg_start, len(result))\n"
     ]
    }
   ],
   "source": [
    "print(\"Recall score\", recall_score(y_test, y_pred_dt, average='macro'))\n",
    "print(\"Precision score\", precision_score(y_test, y_pred_dt, average='macro'))\n",
    "print (\"CONFUSION MATRIX\", confusion_matrix(y_test, y_pred_dt))"
   ]
  },
  {
   "cell_type": "markdown",
   "execution_count": null,
   "metadata": {
    "papermill": {
     "duration": 0.016482,
     "end_time": "2020-08-27T05:21:23.209940",
     "exception": false,
     "start_time": "2020-08-27T05:21:23.193458",
     "status": "completed"
    },
    "tags": []
   },
   "source": [
    "Out of the two Decision Tree gives me the best result."
   ]
  }
 ],
 "metadata": {
  "kernelspec": {
   "display_name": "Python 3",
   "language": "python",
   "name": "python3"
  },
  "language_info": {
   "codemirror_mode": {
    "name": "ipython",
    "version": 3
   },
   "file_extension": ".py",
   "mimetype": "text/x-python",
   "name": "python",
   "nbconvert_exporter": "python",
   "pygments_lexer": "ipython3",
   "version": "3.7.6"
  },
  "papermill": {
   "duration": 7.070085,
   "end_time": "2020-08-27T05:21:23.334980",
   "environment_variables": {},
   "exception": null,
   "input_path": "__notebook__.ipynb",
   "output_path": "__notebook__.ipynb",
   "parameters": {},
   "start_time": "2020-08-27T05:21:16.264895",
   "version": "2.1.0"
  }
 },
 "nbformat": 4,
 "nbformat_minor": 4
}
